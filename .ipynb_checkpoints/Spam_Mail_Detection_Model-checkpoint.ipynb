{
 "cells": [
  {
   "cell_type": "code",
   "execution_count": 1,
   "id": "30e03d90",
   "metadata": {},
   "outputs": [],
   "source": [
    "import numpy as np\n",
    "import pandas as pd\n",
    "from sklearn.model_selection import train_test_split\n",
    "from sklearn.feature_extraction.text import TfidfVectorizer\n",
    "from sklearn.linear_model import LogisticRegression\n",
    "from sklearn.metrics import accuracy_score"
   ]
  },
  {
   "cell_type": "code",
   "execution_count": 2,
   "id": "bfb6aab0",
   "metadata": {},
   "outputs": [],
   "source": [
    "#Loading the data\n",
    "original_data = pd.read_csv(\"mail_data.csv\")\n",
    "\n",
    "#Replacing NULL values with NULL string\n",
    "good_data = original_data.where( (pd.notnull(original_data) ),'')"
   ]
  },
  {
   "cell_type": "code",
   "execution_count": 3,
   "id": "9b0246b0",
   "metadata": {
    "scrolled": true
   },
   "outputs": [
    {
     "data": {
      "text/html": [
       "<div>\n",
       "<style scoped>\n",
       "    .dataframe tbody tr th:only-of-type {\n",
       "        vertical-align: middle;\n",
       "    }\n",
       "\n",
       "    .dataframe tbody tr th {\n",
       "        vertical-align: top;\n",
       "    }\n",
       "\n",
       "    .dataframe thead th {\n",
       "        text-align: right;\n",
       "    }\n",
       "</style>\n",
       "<table border=\"1\" class=\"dataframe\">\n",
       "  <thead>\n",
       "    <tr style=\"text-align: right;\">\n",
       "      <th></th>\n",
       "      <th>Category</th>\n",
       "      <th>Message</th>\n",
       "    </tr>\n",
       "  </thead>\n",
       "  <tbody>\n",
       "    <tr>\n",
       "      <th>0</th>\n",
       "      <td>ham</td>\n",
       "      <td>Go until jurong point, crazy.. Available only ...</td>\n",
       "    </tr>\n",
       "    <tr>\n",
       "      <th>1</th>\n",
       "      <td>ham</td>\n",
       "      <td>Ok lar... Joking wif u oni...</td>\n",
       "    </tr>\n",
       "    <tr>\n",
       "      <th>2</th>\n",
       "      <td>spam</td>\n",
       "      <td>Free entry in 2 a wkly comp to win FA Cup fina...</td>\n",
       "    </tr>\n",
       "    <tr>\n",
       "      <th>3</th>\n",
       "      <td>ham</td>\n",
       "      <td>U dun say so early hor... U c already then say...</td>\n",
       "    </tr>\n",
       "    <tr>\n",
       "      <th>4</th>\n",
       "      <td>ham</td>\n",
       "      <td>Nah I don't think he goes to usf, he lives aro...</td>\n",
       "    </tr>\n",
       "  </tbody>\n",
       "</table>\n",
       "</div>"
      ],
      "text/plain": [
       "  Category                                            Message\n",
       "0      ham  Go until jurong point, crazy.. Available only ...\n",
       "1      ham                      Ok lar... Joking wif u oni...\n",
       "2     spam  Free entry in 2 a wkly comp to win FA Cup fina...\n",
       "3      ham  U dun say so early hor... U c already then say...\n",
       "4      ham  Nah I don't think he goes to usf, he lives aro..."
      ]
     },
     "execution_count": 3,
     "metadata": {},
     "output_type": "execute_result"
    }
   ],
   "source": [
    "good_data.head()"
   ]
  },
  {
   "cell_type": "code",
   "execution_count": 4,
   "id": "028dcfaa",
   "metadata": {},
   "outputs": [
    {
     "data": {
      "text/plain": [
       "(5572, 2)"
      ]
     },
     "execution_count": 4,
     "metadata": {},
     "output_type": "execute_result"
    }
   ],
   "source": [
    "good_data.shape"
   ]
  },
  {
   "cell_type": "code",
   "execution_count": 5,
   "id": "a45aae10",
   "metadata": {},
   "outputs": [],
   "source": [
    "#Coding the Ham mails to False and Spam mails to True\n",
    "good_data.loc[good_data['Category'] == 'spam', 'Category'] = 1\n",
    "good_data.loc[good_data['Category'] == 'ham', 'Category'] = 0"
   ]
  },
  {
   "cell_type": "code",
   "execution_count": 6,
   "id": "2f904707",
   "metadata": {
    "scrolled": true
   },
   "outputs": [
    {
     "data": {
      "text/html": [
       "<div>\n",
       "<style scoped>\n",
       "    .dataframe tbody tr th:only-of-type {\n",
       "        vertical-align: middle;\n",
       "    }\n",
       "\n",
       "    .dataframe tbody tr th {\n",
       "        vertical-align: top;\n",
       "    }\n",
       "\n",
       "    .dataframe thead th {\n",
       "        text-align: right;\n",
       "    }\n",
       "</style>\n",
       "<table border=\"1\" class=\"dataframe\">\n",
       "  <thead>\n",
       "    <tr style=\"text-align: right;\">\n",
       "      <th></th>\n",
       "      <th>Category</th>\n",
       "      <th>Message</th>\n",
       "    </tr>\n",
       "  </thead>\n",
       "  <tbody>\n",
       "    <tr>\n",
       "      <th>0</th>\n",
       "      <td>0</td>\n",
       "      <td>Go until jurong point, crazy.. Available only ...</td>\n",
       "    </tr>\n",
       "    <tr>\n",
       "      <th>1</th>\n",
       "      <td>0</td>\n",
       "      <td>Ok lar... Joking wif u oni...</td>\n",
       "    </tr>\n",
       "    <tr>\n",
       "      <th>2</th>\n",
       "      <td>1</td>\n",
       "      <td>Free entry in 2 a wkly comp to win FA Cup fina...</td>\n",
       "    </tr>\n",
       "    <tr>\n",
       "      <th>3</th>\n",
       "      <td>0</td>\n",
       "      <td>U dun say so early hor... U c already then say...</td>\n",
       "    </tr>\n",
       "    <tr>\n",
       "      <th>4</th>\n",
       "      <td>0</td>\n",
       "      <td>Nah I don't think he goes to usf, he lives aro...</td>\n",
       "    </tr>\n",
       "  </tbody>\n",
       "</table>\n",
       "</div>"
      ],
      "text/plain": [
       "  Category                                            Message\n",
       "0        0  Go until jurong point, crazy.. Available only ...\n",
       "1        0                      Ok lar... Joking wif u oni...\n",
       "2        1  Free entry in 2 a wkly comp to win FA Cup fina...\n",
       "3        0  U dun say so early hor... U c already then say...\n",
       "4        0  Nah I don't think he goes to usf, he lives aro..."
      ]
     },
     "execution_count": 6,
     "metadata": {},
     "output_type": "execute_result"
    }
   ],
   "source": [
    "good_data.head()"
   ]
  },
  {
   "cell_type": "code",
   "execution_count": 7,
   "id": "a2ce4f7a",
   "metadata": {},
   "outputs": [],
   "source": [
    "x = good_data['Message']\n",
    "y = good_data['Category']"
   ]
  },
  {
   "cell_type": "code",
   "execution_count": 8,
   "id": "39236e4e",
   "metadata": {},
   "outputs": [],
   "source": [
    "#Train and Test data\n",
    "x_train, x_test, y_train, y_test = train_test_split(x, y, test_size=0.25, random_state=1)"
   ]
  },
  {
   "cell_type": "code",
   "execution_count": 9,
   "id": "c239ef70",
   "metadata": {},
   "outputs": [
    {
     "name": "stdout",
     "output_type": "stream",
     "text": [
      "(5572,) (4179,) (1393,)\n"
     ]
    }
   ],
   "source": [
    "print(x.shape, x_train.shape, x_test.shape)"
   ]
  },
  {
   "cell_type": "code",
   "execution_count": 10,
   "id": "dbadaf1d",
   "metadata": {
    "scrolled": true
   },
   "outputs": [
    {
     "name": "stdout",
     "output_type": "stream",
     "text": [
      "710     1\n",
      "3740    0\n",
      "2711    1\n",
      "3155    1\n",
      "3748    0\n",
      "       ..\n",
      "905     0\n",
      "5192    0\n",
      "3980    0\n",
      "235     1\n",
      "5157    0\n",
      "Name: Category, Length: 4179, dtype: object\n"
     ]
    }
   ],
   "source": [
    "print(y_train)"
   ]
  },
  {
   "cell_type": "code",
   "execution_count": 11,
   "id": "7f81946d",
   "metadata": {},
   "outputs": [],
   "source": [
    "#Transforming text to readable data for Logistic Regression Model\n",
    "feature_extraction = TfidfVectorizer(min_df=1, stop_words='english', lowercase='True')\n",
    "\n",
    "x_train_features = feature_extraction.fit_transform(x_train)\n",
    "x_test_features = feature_extraction.transform(x_test)\n",
    "\n",
    "y_train = y_train.astype('int')\n",
    "y_test = y_test.astype('int')"
   ]
  },
  {
   "cell_type": "code",
   "execution_count": 12,
   "id": "22322d1f",
   "metadata": {
    "scrolled": true
   },
   "outputs": [
    {
     "name": "stdout",
     "output_type": "stream",
     "text": [
      "  (0, 1968)\t0.20555770187976505\n",
      "  (0, 4621)\t0.2826608319517557\n",
      "  (0, 6670)\t0.23567651227529574\n",
      "  (0, 50)\t0.2826608319517557\n",
      "  (0, 4245)\t0.2826608319517557\n",
      "  (0, 262)\t0.25802160000805496\n",
      "  (0, 4815)\t0.16823978217870592\n",
      "  (0, 2777)\t0.2987551880042128\n",
      "  (0, 4819)\t0.2467015577941807\n",
      "  (0, 1524)\t0.2134897628788885\n",
      "  (0, 3760)\t0.21612407138649548\n",
      "  (0, 5307)\t0.25008953900893155\n",
      "  (0, 3849)\t0.20358236606353303\n",
      "  (0, 4623)\t0.22048220359216783\n",
      "  (0, 5024)\t0.22371596808895342\n",
      "  (0, 3086)\t0.2065881188886313\n",
      "  (0, 507)\t0.2826608319517557\n",
      "  (1, 6542)\t0.657492938833411\n",
      "  (1, 6025)\t0.657492938833411\n",
      "  (1, 2166)\t0.3679756388246497\n",
      "  (2, 6611)\t0.21801015986499822\n",
      "  (2, 6470)\t0.35233710750013614\n",
      "  (2, 5086)\t0.33581174761157134\n",
      "  (2, 98)\t0.35233710750013614\n",
      "  (2, 3177)\t0.22281059031897985\n",
      "  :\t:\n",
      "  (4176, 387)\t0.317680062733604\n",
      "  (4176, 3876)\t0.25677970808202527\n",
      "  (4176, 7131)\t0.23431439791927364\n",
      "  (4176, 6188)\t0.25152520362673875\n",
      "  (4176, 4414)\t0.28918871571362903\n",
      "  (4177, 6371)\t0.31506538554722807\n",
      "  (4177, 2701)\t0.30028814870851284\n",
      "  (4177, 5231)\t0.2816710320325676\n",
      "  (4177, 2043)\t0.24163194196309423\n",
      "  (4177, 4768)\t0.28980353231646977\n",
      "  (4177, 356)\t0.2694082507703203\n",
      "  (4177, 5617)\t0.23301671739847463\n",
      "  (4177, 3582)\t0.22605368056383238\n",
      "  (4177, 829)\t0.25293558496612645\n",
      "  (4177, 305)\t0.2087267924429882\n",
      "  (4177, 6450)\t0.1637801119447002\n",
      "  (4177, 5318)\t0.1728574048271797\n",
      "  (4177, 252)\t0.23114732557105117\n",
      "  (4177, 4312)\t0.18062361910953467\n",
      "  (4177, 4127)\t0.19050582260629478\n",
      "  (4177, 3620)\t0.13629190859338922\n",
      "  (4177, 5484)\t0.2816710320325676\n",
      "  (4177, 6318)\t0.16237278843513658\n",
      "  (4178, 5814)\t0.6949543291224118\n",
      "  (4178, 1640)\t0.7190538786725363\n"
     ]
    }
   ],
   "source": [
    "print(x_train_features)"
   ]
  },
  {
   "cell_type": "code",
   "execution_count": 13,
   "id": "eee50b21",
   "metadata": {},
   "outputs": [],
   "source": [
    "LR = LogisticRegression()"
   ]
  },
  {
   "cell_type": "code",
   "execution_count": 14,
   "id": "935627ec",
   "metadata": {},
   "outputs": [
    {
     "data": {
      "text/plain": [
       "LogisticRegression()"
      ]
     },
     "execution_count": 14,
     "metadata": {},
     "output_type": "execute_result"
    }
   ],
   "source": [
    "LR.fit(x_train_features, y_train)"
   ]
  },
  {
   "cell_type": "code",
   "execution_count": 15,
   "id": "b5661291",
   "metadata": {},
   "outputs": [],
   "source": [
    "prediction_training = LR.predict(x_train_features)\n",
    "accuracy_training = accuracy_score(y_train, prediction_training)"
   ]
  },
  {
   "cell_type": "code",
   "execution_count": 16,
   "id": "247412dc",
   "metadata": {},
   "outputs": [
    {
     "name": "stdout",
     "output_type": "stream",
     "text": [
      "Accuracy of the model on training data =  0.9662598707824839\n"
     ]
    }
   ],
   "source": [
    "print(\"Accuracy of the model on training data = \",accuracy_training)"
   ]
  },
  {
   "cell_type": "code",
   "execution_count": 17,
   "id": "ad8b3dda",
   "metadata": {},
   "outputs": [],
   "source": [
    "prediction_test = LR.predict(x_test_features)\n",
    "accuracy_test = accuracy_score(y_test, prediction_test)"
   ]
  },
  {
   "cell_type": "code",
   "execution_count": 18,
   "id": "bc58b43d",
   "metadata": {},
   "outputs": [
    {
     "name": "stdout",
     "output_type": "stream",
     "text": [
      "Accuracy of the model on test data =  0.968413496051687\n"
     ]
    }
   ],
   "source": [
    "print(\"Accuracy of the model on test data = \",accuracy_test)"
   ]
  },
  {
   "cell_type": "code",
   "execution_count": 19,
   "id": "0f3e14f8",
   "metadata": {},
   "outputs": [],
   "source": [
    "# check_mail = [\" 07732584351 - Rodger Burns - MSG = We tried to call you re your reply to our sms for a free nokia mobile + free camcorder. Please call now 08000930705 for delivery tomorrow \"]\n",
    "# check_mail_features = feature_extraction.transform(check_mail)\n",
    " \n",
    "# predict_mail = LR.predict(check_mail_features)"
   ]
  },
  {
   "cell_type": "code",
   "execution_count": 20,
   "id": "bda232fe",
   "metadata": {},
   "outputs": [],
   "source": [
    "# if (predict_mail[0] == 1):\n",
    "#     print(\"Spam mail\")\n",
    "# else:\n",
    "#     print(\"Ham Mail\")"
   ]
  },
  {
   "cell_type": "code",
   "execution_count": 21,
   "id": "b2eab83d",
   "metadata": {},
   "outputs": [],
   "source": [
    "import pickle"
   ]
  },
  {
   "cell_type": "code",
   "execution_count": 22,
   "id": "530dcbbe",
   "metadata": {},
   "outputs": [],
   "source": [
    "filename = \"spam_model.pkl\"\n",
    "pickle.dump(LR, open(filename, 'wb') )"
   ]
  },
  {
   "cell_type": "code",
   "execution_count": 23,
   "id": "a6ca9d34",
   "metadata": {
    "scrolled": false
   },
   "outputs": [
    {
     "name": "stdout",
     "output_type": "stream",
     "text": [
      "<bound method NDFrame.head of 0       Go until jurong point, crazy.. Available only ...\n",
      "1                           Ok lar... Joking wif u oni...\n",
      "2       Free entry in 2 a wkly comp to win FA Cup fina...\n",
      "3       U dun say so early hor... U c already then say...\n",
      "4       Nah I don't think he goes to usf, he lives aro...\n",
      "                              ...                        \n",
      "5567    This is the 2nd time we have tried 2 contact u...\n",
      "5568                 Will ü b going to esplanade fr home?\n",
      "5569    Pity, * was in mood for that. So...any other s...\n",
      "5570    The guy did some bitching but I acted like i'd...\n",
      "5571                           Rofl. Its true to its name\n",
      "Name: Message, Length: 5572, dtype: object>\n"
     ]
    }
   ],
   "source": [
    "print(x.head)"
   ]
  },
  {
   "cell_type": "code",
   "execution_count": null,
   "id": "e42d12c2",
   "metadata": {},
   "outputs": [],
   "source": []
  }
 ],
 "metadata": {
  "kernelspec": {
   "display_name": "Python 3 (ipykernel)",
   "language": "python",
   "name": "python3"
  },
  "language_info": {
   "codemirror_mode": {
    "name": "ipython",
    "version": 3
   },
   "file_extension": ".py",
   "mimetype": "text/x-python",
   "name": "python",
   "nbconvert_exporter": "python",
   "pygments_lexer": "ipython3",
   "version": "3.9.13"
  },
  "vscode": {
   "interpreter": {
    "hash": "a077222d77dfe082b8f1dd562ad70e458ac2ab76993a0b248ab0476e32e9e8dd"
   }
  }
 },
 "nbformat": 4,
 "nbformat_minor": 5
}
